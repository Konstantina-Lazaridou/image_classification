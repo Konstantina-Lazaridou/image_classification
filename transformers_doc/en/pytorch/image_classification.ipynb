{
  "cells": [
    {
      "cell_type": "code",
      "execution_count": null,
      "metadata": {
        "id": "XqpnOPMNkw5k"
      },
      "outputs": [],
      "source": [
        "# Transformers installation\n",
        "! pip install transformers datasets evaluate accelerate\n",
        "# To install from source instead of the last release, comment the command above and uncomment the following one.\n",
        "# ! pip install git+https://github.com/huggingface/transformers.git"
      ]
    },
    {
      "cell_type": "markdown",
      "metadata": {
        "id": "BIC6WVEMkw5l"
      },
      "source": [
        "# Image classification"
      ]
    },
    {
      "cell_type": "code",
      "execution_count": null,
      "metadata": {
        "cellView": "form",
        "hide_input": true,
        "id": "zJzSJh4wkw5l",
        "outputId": "31b0e8a0-bbdc-414e-b27d-39785664ec08"
      },
      "outputs": [
        {
          "data": {
            "text/html": [
              "<iframe width=\"560\" height=\"315\" src=\"https://www.youtube.com/embed/tjAIM7BOYhw?rel=0&amp;controls=0&amp;showinfo=0\" frameborder=\"0\" allowfullscreen></iframe>"
            ],
            "text/plain": [
              "<IPython.core.display.HTML object>"
            ]
          },
          "execution_count": null,
          "metadata": {},
          "output_type": "execute_result"
        }
      ],
      "source": [
        "#@title\n",
        "from IPython.display import HTML\n",
        "\n",
        "HTML('<iframe width=\"560\" height=\"315\" src=\"https://www.youtube.com/embed/tjAIM7BOYhw?rel=0&amp;controls=0&amp;showinfo=0\" frameborder=\"0\" allowfullscreen></iframe>')"
      ]
    },
    {
      "cell_type": "markdown",
      "metadata": {
        "id": "XjVmpp0ekw5m"
      },
      "source": [
        "Image classification assigns a label or class to an image. Unlike text or audio classification, the inputs are the\n",
        "pixel values that comprise an image. There are many applications for image classification, such as detecting damage\n",
        "after a natural disaster, monitoring crop health, or helping screen medical images for signs of disease.\n",
        "\n",
        "This guide illustrates how to:\n",
        "\n",
        "1. Fine-tune [ViT](https://huggingface.co/docs/transformers/main/en/tasks/../model_doc/vit) on the [Food-101](https://huggingface.co/datasets/food101) dataset to classify a food item in an image.\n",
        "2. Use your fine-tuned model for inference.\n",
        "\n",
        "<Tip>\n",
        "\n",
        "To see all architectures and checkpoints compatible with this task, we recommend checking the [task-page](https://huggingface.co/tasks/image-classification)\n",
        "\n",
        "</Tip>\n",
        "\n",
        "Before you begin, make sure you have all the necessary libraries installed:\n",
        "\n",
        "```bash\n",
        "pip install transformers datasets evaluate accelerate pillow torchvision scikit-learn\n",
        "```\n",
        "\n",
        "We encourage you to log in to your Hugging Face account to upload and share your model with the community. When prompted, enter your token to log in:"
      ]
    },
    {
      "cell_type": "code",
      "execution_count": null,
      "metadata": {
        "id": "7ibduGblkw5m"
      },
      "outputs": [],
      "source": [
        "from huggingface_hub import notebook_login\n",
        "\n",
        "notebook_login()"
      ]
    },
    {
      "cell_type": "markdown",
      "metadata": {
        "id": "Jy2S873Qkw5n"
      },
      "source": [
        "## Load Food-101 dataset"
      ]
    },
    {
      "cell_type": "markdown",
      "metadata": {
        "id": "zfxDaoKNkw5n"
      },
      "source": [
        "Start by loading a smaller subset of the Food-101 dataset from the 🤗 Datasets library. This will give you a chance to\n",
        "experiment and make sure everything works before spending more time training on the full dataset."
      ]
    },
    {
      "cell_type": "code",
      "execution_count": 81,
      "metadata": {
        "id": "QvEb1F6Zkw5n"
      },
      "outputs": [],
      "source": [
        "from datasets import load_dataset\n",
        "\n",
        "food = load_dataset(\"food101\", split=\"train[:3000]\")"
      ]
    },
    {
      "cell_type": "code",
      "source": [
        "import pprint\n",
        "pprint.pprint(food.info)"
      ],
      "metadata": {
        "colab": {
          "base_uri": "https://localhost:8080/"
        },
        "id": "JCMuL5QamLyC",
        "outputId": "38f8eba8-8798-45f5-83e9-76e11537566a"
      },
      "execution_count": 82,
      "outputs": [
        {
          "output_type": "stream",
          "name": "stdout",
          "text": [
            "DatasetInfo(description='',\n",
            "            citation='',\n",
            "            homepage='',\n",
            "            license='',\n",
            "            features={'image': Image(mode=None, decode=True, id=None),\n",
            "                      'label': ClassLabel(names=['apple_pie',\n",
            "                                                 'baby_back_ribs',\n",
            "                                                 'baklava',\n",
            "                                                 'beef_carpaccio',\n",
            "                                                 'beef_tartare',\n",
            "                                                 'beet_salad',\n",
            "                                                 'beignets',\n",
            "                                                 'bibimbap',\n",
            "                                                 'bread_pudding',\n",
            "                                                 'breakfast_burrito',\n",
            "                                                 'bruschetta',\n",
            "                                                 'caesar_salad',\n",
            "                                                 'cannoli',\n",
            "                                                 'caprese_salad',\n",
            "                                                 'carrot_cake',\n",
            "                                                 'ceviche',\n",
            "                                                 'cheesecake',\n",
            "                                                 'cheese_plate',\n",
            "                                                 'chicken_curry',\n",
            "                                                 'chicken_quesadilla',\n",
            "                                                 'chicken_wings',\n",
            "                                                 'chocolate_cake',\n",
            "                                                 'chocolate_mousse',\n",
            "                                                 'churros',\n",
            "                                                 'clam_chowder',\n",
            "                                                 'club_sandwich',\n",
            "                                                 'crab_cakes',\n",
            "                                                 'creme_brulee',\n",
            "                                                 'croque_madame',\n",
            "                                                 'cup_cakes',\n",
            "                                                 'deviled_eggs',\n",
            "                                                 'donuts',\n",
            "                                                 'dumplings',\n",
            "                                                 'edamame',\n",
            "                                                 'eggs_benedict',\n",
            "                                                 'escargots',\n",
            "                                                 'falafel',\n",
            "                                                 'filet_mignon',\n",
            "                                                 'fish_and_chips',\n",
            "                                                 'foie_gras',\n",
            "                                                 'french_fries',\n",
            "                                                 'french_onion_soup',\n",
            "                                                 'french_toast',\n",
            "                                                 'fried_calamari',\n",
            "                                                 'fried_rice',\n",
            "                                                 'frozen_yogurt',\n",
            "                                                 'garlic_bread',\n",
            "                                                 'gnocchi',\n",
            "                                                 'greek_salad',\n",
            "                                                 'grilled_cheese_sandwich',\n",
            "                                                 'grilled_salmon',\n",
            "                                                 'guacamole',\n",
            "                                                 'gyoza',\n",
            "                                                 'hamburger',\n",
            "                                                 'hot_and_sour_soup',\n",
            "                                                 'hot_dog',\n",
            "                                                 'huevos_rancheros',\n",
            "                                                 'hummus',\n",
            "                                                 'ice_cream',\n",
            "                                                 'lasagna',\n",
            "                                                 'lobster_bisque',\n",
            "                                                 'lobster_roll_sandwich',\n",
            "                                                 'macaroni_and_cheese',\n",
            "                                                 'macarons',\n",
            "                                                 'miso_soup',\n",
            "                                                 'mussels',\n",
            "                                                 'nachos',\n",
            "                                                 'omelette',\n",
            "                                                 'onion_rings',\n",
            "                                                 'oysters',\n",
            "                                                 'pad_thai',\n",
            "                                                 'paella',\n",
            "                                                 'pancakes',\n",
            "                                                 'panna_cotta',\n",
            "                                                 'peking_duck',\n",
            "                                                 'pho',\n",
            "                                                 'pizza',\n",
            "                                                 'pork_chop',\n",
            "                                                 'poutine',\n",
            "                                                 'prime_rib',\n",
            "                                                 'pulled_pork_sandwich',\n",
            "                                                 'ramen',\n",
            "                                                 'ravioli',\n",
            "                                                 'red_velvet_cake',\n",
            "                                                 'risotto',\n",
            "                                                 'samosa',\n",
            "                                                 'sashimi',\n",
            "                                                 'scallops',\n",
            "                                                 'seaweed_salad',\n",
            "                                                 'shrimp_and_grits',\n",
            "                                                 'spaghetti_bolognese',\n",
            "                                                 'spaghetti_carbonara',\n",
            "                                                 'spring_rolls',\n",
            "                                                 'steak',\n",
            "                                                 'strawberry_shortcake',\n",
            "                                                 'sushi',\n",
            "                                                 'tacos',\n",
            "                                                 'takoyaki',\n",
            "                                                 'tiramisu',\n",
            "                                                 'tuna_tartare',\n",
            "                                                 'waffles'],\n",
            "                                          id=None)},\n",
            "            post_processed=None,\n",
            "            supervised_keys=None,\n",
            "            builder_name='parquet',\n",
            "            dataset_name='food101',\n",
            "            config_name='default',\n",
            "            version=0.0.0,\n",
            "            splits={'train': SplitInfo(name='train',\n",
            "                                       num_bytes=3843775106,\n",
            "                                       num_examples=75750,\n",
            "                                       shard_lengths=[9669,\n",
            "                                                      10069,\n",
            "                                                      9969,\n",
            "                                                      10069,\n",
            "                                                      10069,\n",
            "                                                      9769,\n",
            "                                                      9968,\n",
            "                                                      6168],\n",
            "                                       dataset_name='food101'),\n",
            "                    'validation': SplitInfo(name='validation',\n",
            "                                            num_bytes=1275553214,\n",
            "                                            num_examples=25250,\n",
            "                                            shard_lengths=[9917, 10017, 5316],\n",
            "                                            dataset_name='food101')},\n",
            "            download_checksums={'hf://datasets/food101@e06acf2a88084f04bce4d4a525165d68e0a36c38/data/train-00000-of-00008.parquet': {'checksum': None,\n",
            "                                                                                                                                     'num_bytes': 489582959},\n",
            "                                'hf://datasets/food101@e06acf2a88084f04bce4d4a525165d68e0a36c38/data/train-00001-of-00008.parquet': {'checksum': None,\n",
            "                                                                                                                                     'num_bytes': 464225341},\n",
            "                                'hf://datasets/food101@e06acf2a88084f04bce4d4a525165d68e0a36c38/data/train-00002-of-00008.parquet': {'checksum': None,\n",
            "                                                                                                                                     'num_bytes': 472211726},\n",
            "                                'hf://datasets/food101@e06acf2a88084f04bce4d4a525165d68e0a36c38/data/train-00003-of-00008.parquet': {'checksum': None,\n",
            "                                                                                                                                     'num_bytes': 463644865},\n",
            "                                'hf://datasets/food101@e06acf2a88084f04bce4d4a525165d68e0a36c38/data/train-00004-of-00008.parquet': {'checksum': None,\n",
            "                                                                                                                                     'num_bytes': 475091267},\n",
            "                                'hf://datasets/food101@e06acf2a88084f04bce4d4a525165d68e0a36c38/data/train-00005-of-00008.parquet': {'checksum': None,\n",
            "                                                                                                                                     'num_bytes': 469875468},\n",
            "                                'hf://datasets/food101@e06acf2a88084f04bce4d4a525165d68e0a36c38/data/train-00006-of-00008.parquet': {'checksum': None,\n",
            "                                                                                                                                     'num_bytes': 478240948},\n",
            "                                'hf://datasets/food101@e06acf2a88084f04bce4d4a525165d68e0a36c38/data/train-00007-of-00008.parquet': {'checksum': None,\n",
            "                                                                                                                                     'num_bytes': 485648421},\n",
            "                                'hf://datasets/food101@e06acf2a88084f04bce4d4a525165d68e0a36c38/data/validation-00000-of-00003.parquet': {'checksum': None,\n",
            "                                                                                                                                          'num_bytes': 422634283},\n",
            "                                'hf://datasets/food101@e06acf2a88084f04bce4d4a525165d68e0a36c38/data/validation-00001-of-00003.parquet': {'checksum': None,\n",
            "                                                                                                                                          'num_bytes': 413147844},\n",
            "                                'hf://datasets/food101@e06acf2a88084f04bce4d4a525165d68e0a36c38/data/validation-00002-of-00003.parquet': {'checksum': None,\n",
            "                                                                                                                                          'num_bytes': 425669186}},\n",
            "            download_size=5059972308,\n",
            "            post_processing_size=None,\n",
            "            dataset_size=5119328320,\n",
            "            size_in_bytes=10179300628)\n"
          ]
        }
      ]
    },
    {
      "cell_type": "markdown",
      "metadata": {
        "id": "wwwpdQmbkw5o"
      },
      "source": [
        "Split the dataset's `train` split into a train and test set with the [train_test_split](https://huggingface.co/docs/datasets/main/en/package_reference/main_classes#datasets.Dataset.train_test_split) method:"
      ]
    },
    {
      "cell_type": "code",
      "execution_count": 83,
      "metadata": {
        "id": "_xJfCoXVkw5o"
      },
      "outputs": [],
      "source": [
        "food = food.train_test_split(test_size=0.2)"
      ]
    },
    {
      "cell_type": "code",
      "source": [
        "from collections import Counter\n",
        "label_counts = Counter(food['train'][\"label\"])\n",
        "sorted_label_counts = dict(sorted(label_counts.items()))\n",
        "print(sorted_label_counts)\n",
        "label_counts = (Counter(food['test'][\"label\"]))\n",
        "sorted_label_counts = dict(sorted(label_counts.items()))\n",
        "print(sorted_label_counts)"
      ],
      "metadata": {
        "colab": {
          "base_uri": "https://localhost:8080/"
        },
        "id": "Zb9rKxinxq9l",
        "outputId": "fdfd5a75-0bb6-4647-ec94-9da43287258b"
      },
      "execution_count": 84,
      "outputs": [
        {
          "output_type": "stream",
          "name": "stdout",
          "text": [
            "{6: 606, 53: 601, 79: 604, 81: 589}\n",
            "{6: 144, 53: 149, 79: 146, 81: 161}\n"
          ]
        }
      ]
    },
    {
      "cell_type": "markdown",
      "metadata": {
        "id": "SkXaRx8-kw5o"
      },
      "source": [
        "Then take a look at an example:"
      ]
    },
    {
      "cell_type": "code",
      "execution_count": 85,
      "metadata": {
        "colab": {
          "base_uri": "https://localhost:8080/"
        },
        "id": "EuFVCt6wkw5o",
        "outputId": "77f4e898-803e-43a9-a046-d0adf869f6d6"
      },
      "outputs": [
        {
          "output_type": "execute_result",
          "data": {
            "text/plain": [
              "{'image': <PIL.JpegImagePlugin.JpegImageFile image mode=RGB size=512x512>,\n",
              " 'label': 53}"
            ]
          },
          "metadata": {},
          "execution_count": 85
        }
      ],
      "source": [
        "# PIL image object\n",
        "# mode=RGB: The image has 3 color channels (Red, Green, Blue)\n",
        "# size=382x512: Width = 382 pixels, Height = 512 pixels\n",
        "food[\"train\"][0]"
      ]
    },
    {
      "cell_type": "markdown",
      "metadata": {
        "id": "KsvmqaLOkw5o"
      },
      "source": [
        "[link text](https://)Each example in the dataset has two fields:\n",
        "\n",
        "- `image`: a PIL image of the food item\n",
        "- `label`: the label class of the food item\n",
        "\n",
        "To make it easier for the model to get the label name from the label id, create a dictionary that maps the label name\n",
        "to an integer and vice versa:"
      ]
    },
    {
      "cell_type": "code",
      "execution_count": 86,
      "metadata": {
        "id": "W25-OjqAkw5o"
      },
      "outputs": [],
      "source": [
        "labels = food[\"train\"].features[\"label\"].names\n",
        "label2id, id2label = dict(), dict()\n",
        "for i, label in enumerate(labels):\n",
        "    label2id[label] = str(i)\n",
        "    id2label[str(i)] = label"
      ]
    },
    {
      "cell_type": "code",
      "source": [
        "id2label"
      ],
      "metadata": {
        "colab": {
          "base_uri": "https://localhost:8080/"
        },
        "id": "J1cgSrNVz9gU",
        "outputId": "a3102a10-1645-40c4-c9aa-2bc3a5b2d21b"
      },
      "execution_count": 87,
      "outputs": [
        {
          "output_type": "execute_result",
          "data": {
            "text/plain": [
              "{'0': 'apple_pie',\n",
              " '1': 'baby_back_ribs',\n",
              " '2': 'baklava',\n",
              " '3': 'beef_carpaccio',\n",
              " '4': 'beef_tartare',\n",
              " '5': 'beet_salad',\n",
              " '6': 'beignets',\n",
              " '7': 'bibimbap',\n",
              " '8': 'bread_pudding',\n",
              " '9': 'breakfast_burrito',\n",
              " '10': 'bruschetta',\n",
              " '11': 'caesar_salad',\n",
              " '12': 'cannoli',\n",
              " '13': 'caprese_salad',\n",
              " '14': 'carrot_cake',\n",
              " '15': 'ceviche',\n",
              " '16': 'cheesecake',\n",
              " '17': 'cheese_plate',\n",
              " '18': 'chicken_curry',\n",
              " '19': 'chicken_quesadilla',\n",
              " '20': 'chicken_wings',\n",
              " '21': 'chocolate_cake',\n",
              " '22': 'chocolate_mousse',\n",
              " '23': 'churros',\n",
              " '24': 'clam_chowder',\n",
              " '25': 'club_sandwich',\n",
              " '26': 'crab_cakes',\n",
              " '27': 'creme_brulee',\n",
              " '28': 'croque_madame',\n",
              " '29': 'cup_cakes',\n",
              " '30': 'deviled_eggs',\n",
              " '31': 'donuts',\n",
              " '32': 'dumplings',\n",
              " '33': 'edamame',\n",
              " '34': 'eggs_benedict',\n",
              " '35': 'escargots',\n",
              " '36': 'falafel',\n",
              " '37': 'filet_mignon',\n",
              " '38': 'fish_and_chips',\n",
              " '39': 'foie_gras',\n",
              " '40': 'french_fries',\n",
              " '41': 'french_onion_soup',\n",
              " '42': 'french_toast',\n",
              " '43': 'fried_calamari',\n",
              " '44': 'fried_rice',\n",
              " '45': 'frozen_yogurt',\n",
              " '46': 'garlic_bread',\n",
              " '47': 'gnocchi',\n",
              " '48': 'greek_salad',\n",
              " '49': 'grilled_cheese_sandwich',\n",
              " '50': 'grilled_salmon',\n",
              " '51': 'guacamole',\n",
              " '52': 'gyoza',\n",
              " '53': 'hamburger',\n",
              " '54': 'hot_and_sour_soup',\n",
              " '55': 'hot_dog',\n",
              " '56': 'huevos_rancheros',\n",
              " '57': 'hummus',\n",
              " '58': 'ice_cream',\n",
              " '59': 'lasagna',\n",
              " '60': 'lobster_bisque',\n",
              " '61': 'lobster_roll_sandwich',\n",
              " '62': 'macaroni_and_cheese',\n",
              " '63': 'macarons',\n",
              " '64': 'miso_soup',\n",
              " '65': 'mussels',\n",
              " '66': 'nachos',\n",
              " '67': 'omelette',\n",
              " '68': 'onion_rings',\n",
              " '69': 'oysters',\n",
              " '70': 'pad_thai',\n",
              " '71': 'paella',\n",
              " '72': 'pancakes',\n",
              " '73': 'panna_cotta',\n",
              " '74': 'peking_duck',\n",
              " '75': 'pho',\n",
              " '76': 'pizza',\n",
              " '77': 'pork_chop',\n",
              " '78': 'poutine',\n",
              " '79': 'prime_rib',\n",
              " '80': 'pulled_pork_sandwich',\n",
              " '81': 'ramen',\n",
              " '82': 'ravioli',\n",
              " '83': 'red_velvet_cake',\n",
              " '84': 'risotto',\n",
              " '85': 'samosa',\n",
              " '86': 'sashimi',\n",
              " '87': 'scallops',\n",
              " '88': 'seaweed_salad',\n",
              " '89': 'shrimp_and_grits',\n",
              " '90': 'spaghetti_bolognese',\n",
              " '91': 'spaghetti_carbonara',\n",
              " '92': 'spring_rolls',\n",
              " '93': 'steak',\n",
              " '94': 'strawberry_shortcake',\n",
              " '95': 'sushi',\n",
              " '96': 'tacos',\n",
              " '97': 'takoyaki',\n",
              " '98': 'tiramisu',\n",
              " '99': 'tuna_tartare',\n",
              " '100': 'waffles'}"
            ]
          },
          "metadata": {},
          "execution_count": 87
        }
      ]
    },
    {
      "cell_type": "markdown",
      "metadata": {
        "id": "ktzGVEmkkw5o"
      },
      "source": [
        "Now you can convert the label id to a label name:"
      ]
    },
    {
      "cell_type": "code",
      "execution_count": 88,
      "metadata": {
        "colab": {
          "base_uri": "https://localhost:8080/",
          "height": 35
        },
        "id": "trjX_nfLkw5p",
        "outputId": "36e37a87-5e2f-4086-ee04-22c136e7b6f9"
      },
      "outputs": [
        {
          "output_type": "execute_result",
          "data": {
            "text/plain": [
              "'chicken_wings'"
            ],
            "application/vnd.google.colaboratory.intrinsic+json": {
              "type": "string"
            }
          },
          "metadata": {},
          "execution_count": 88
        }
      ],
      "source": [
        "id2label[str(20)]"
      ]
    },
    {
      "cell_type": "markdown",
      "metadata": {
        "id": "BAMbaxDokw5p"
      },
      "source": [
        "## Preprocess"
      ]
    },
    {
      "cell_type": "markdown",
      "metadata": {
        "id": "QQJOHwz_kw5p"
      },
      "source": [
        "The next step is to load a ViT image processor to process the image into a tensor:"
      ]
    },
    {
      "cell_type": "code",
      "execution_count": 89,
      "metadata": {
        "colab": {
          "base_uri": "https://localhost:8080/"
        },
        "id": "W8G8XEhskw5p",
        "outputId": "85fb7d75-48d3-425c-ad13-1839820b6624"
      },
      "outputs": [
        {
          "output_type": "stream",
          "name": "stderr",
          "text": [
            "Fast image processor class <class 'transformers.models.vit.image_processing_vit_fast.ViTImageProcessorFast'> is available for this model. Using slow image processor class. To use the fast image processor class set `use_fast=True`.\n"
          ]
        }
      ],
      "source": [
        "from transformers import AutoImageProcessor\n",
        "\n",
        "checkpoint = \"google/vit-base-patch16-224-in21k\"\n",
        "image_processor = AutoImageProcessor.from_pretrained(checkpoint)"
      ]
    },
    {
      "cell_type": "markdown",
      "metadata": {
        "id": "5UnYAyzxkw5p"
      },
      "source": [
        "Apply some image transformations to the images to make the model more robust against overfitting. Here you'll use torchvision's [`transforms`](https://pytorch.org/vision/stable/transforms.html) module, but you can also use any image library you like.\n",
        "\n",
        "Crop a random part of the image, resize it, and normalize it with the image mean and standard deviation:"
      ]
    },
    {
      "cell_type": "code",
      "execution_count": 90,
      "metadata": {
        "colab": {
          "base_uri": "https://localhost:8080/"
        },
        "id": "KxonZmVhkw5p",
        "outputId": "d6f4cb1b-e7af-4a1e-f851-b5571de6260e"
      },
      "outputs": [
        {
          "output_type": "execute_result",
          "data": {
            "text/plain": [
              "(224, 224)"
            ]
          },
          "metadata": {},
          "execution_count": 90
        }
      ],
      "source": [
        "from torchvision.transforms import RandomResizedCrop, Compose, Normalize, ToTensor\n",
        "\n",
        "normalize = Normalize(mean=image_processor.image_mean, std=image_processor.image_std)\n",
        "size = (\n",
        "    image_processor.size[\"shortest_edge\"]\n",
        "    if \"shortest_edge\" in image_processor.size\n",
        "    else (image_processor.size[\"height\"], image_processor.size[\"width\"])\n",
        ")\n",
        "_transforms = Compose([RandomResizedCrop(size), ToTensor(), normalize])\n",
        "size"
      ]
    },
    {
      "cell_type": "markdown",
      "metadata": {
        "id": "YMEfcmQGkw5p"
      },
      "source": [
        "Then create a preprocessing function to apply the transforms and return the `pixel_values` - the inputs to the model - of the image:"
      ]
    },
    {
      "cell_type": "code",
      "execution_count": 91,
      "metadata": {
        "id": "PXI9Vzelkw5p"
      },
      "outputs": [],
      "source": [
        "def transforms(examples):\n",
        "    examples[\"pixel_values\"] = [_transforms(img.convert(\"RGB\")) for img in examples[\"image\"]]\n",
        "    del examples[\"image\"]\n",
        "    return examples"
      ]
    },
    {
      "cell_type": "markdown",
      "metadata": {
        "id": "sFPXLYFXkw5p"
      },
      "source": [
        "[link text](https://)To apply the preprocessing function over the entire dataset, use 🤗 Datasets [with_transform](https://huggingface.co/docs/datasets/main/en/package_reference/main_classes#datasets.Dataset.with_transform) method. The transforms are applied on the fly when you load an element of the dataset:"
      ]
    },
    {
      "cell_type": "code",
      "execution_count": 92,
      "metadata": {
        "colab": {
          "base_uri": "https://localhost:8080/"
        },
        "id": "loJoqPPgkw5p",
        "outputId": "08be1b55-f607-4e20-884e-c0b271d8c928"
      },
      "outputs": [
        {
          "output_type": "stream",
          "name": "stdout",
          "text": [
            "{'image': <PIL.JpegImagePlugin.JpegImageFile image mode=RGB size=512x512 at 0x791AE563A050>, 'label': 53}\n",
            "torch.Size([3, 224, 224])\n",
            "tensor([[[ 0.3490,  0.1608,  0.0039,  ...,  0.3804,  0.3647,  0.3333],\n",
            "         [ 0.3412,  0.2392,  0.1686,  ...,  0.3490,  0.3412,  0.3255],\n",
            "         [ 0.3569,  0.3333,  0.3333,  ...,  0.3176,  0.3333,  0.3255],\n",
            "         ...,\n",
            "         [-0.7020, -0.7176, -0.7412,  ..., -0.4510, -0.4667, -0.4745],\n",
            "         [-0.7255, -0.7176, -0.7412,  ..., -0.4667, -0.4667, -0.4745],\n",
            "         [-0.7412, -0.7255, -0.7490,  ..., -0.4824, -0.4745, -0.4824]],\n",
            "\n",
            "        [[-0.1373, -0.3098, -0.4667,  ..., -0.2471, -0.2627, -0.2941],\n",
            "         [-0.1451, -0.2314, -0.3020,  ..., -0.2706, -0.2784, -0.3020],\n",
            "         [-0.1294, -0.1373, -0.1373,  ..., -0.2941, -0.2863, -0.2863],\n",
            "         ...,\n",
            "         [-0.9373, -0.9451, -0.9451,  ..., -0.8431, -0.8588, -0.8667],\n",
            "         [-0.9608, -0.9451, -0.9451,  ..., -0.8588, -0.8588, -0.8667],\n",
            "         [-0.9765, -0.9529, -0.9608,  ..., -0.8745, -0.8667, -0.8745]],\n",
            "\n",
            "        [[-0.5843, -0.7804, -0.9373,  ..., -0.7255, -0.7412, -0.7725],\n",
            "         [-0.6000, -0.7020, -0.7725,  ..., -0.7412, -0.7490, -0.7569],\n",
            "         [-0.5922, -0.6157, -0.6157,  ..., -0.7490, -0.7412, -0.7333],\n",
            "         ...,\n",
            "         [-0.9216, -0.9294, -0.9373,  ..., -0.8510, -0.8667, -0.8745],\n",
            "         [-0.9451, -0.9294, -0.9373,  ..., -0.8667, -0.8667, -0.8745],\n",
            "         [-0.9608, -0.9373, -0.9529,  ..., -0.8824, -0.8745, -0.8824]]])\n"
          ]
        }
      ],
      "source": [
        "print(food['train'][0])\n",
        "food = food.with_transform(transforms)\n",
        "print(food['train'][0]['pixel_values'].shape)\n",
        "print(food['train'][0]['pixel_values'])"
      ]
    },
    {
      "cell_type": "markdown",
      "metadata": {
        "id": "xQ5NU8jAkw5p"
      },
      "source": [
        "Now create a batch of examples using [DefaultDataCollator](https://huggingface.co/docs/transformers/main/en/main_classes/data_collator#transformers.DefaultDataCollator). Unlike other data collators in 🤗 Transformers, the `DefaultDataCollator` does not apply additional preprocessing such as padding."
      ]
    },
    {
      "cell_type": "code",
      "execution_count": 93,
      "metadata": {
        "id": "A5ZtVKQmkw5q"
      },
      "outputs": [],
      "source": [
        "from transformers import DefaultDataCollator\n",
        "\n",
        "data_collator = DefaultDataCollator()"
      ]
    },
    {
      "cell_type": "markdown",
      "metadata": {
        "id": "mYFPuj8Ukw5q"
      },
      "source": [
        "## Evaluate"
      ]
    },
    {
      "cell_type": "markdown",
      "metadata": {
        "id": "ylBVPrS4kw5q"
      },
      "source": [
        "Including a metric during training is often helpful for evaluating your model's performance. You can quickly load an\n",
        "evaluation method with the 🤗 [Evaluate](https://huggingface.co/docs/evaluate/index) library. For this task, load\n",
        "the [accuracy](https://huggingface.co/spaces/evaluate-metric/accuracy) metric (see the 🤗 Evaluate [quick tour](https://huggingface.co/docs/evaluate/a_quick_tour) to learn more about how to load and compute a metric):"
      ]
    },
    {
      "cell_type": "code",
      "execution_count": 94,
      "metadata": {
        "id": "B5zZuZIOkw5q"
      },
      "outputs": [],
      "source": [
        "import evaluate\n",
        "\n",
        "accuracy = evaluate.load(\"accuracy\")\n",
        "f1score = evaluate.load(\"f1\")\n"
      ]
    },
    {
      "cell_type": "markdown",
      "metadata": {
        "id": "_cku5KLOkw5q"
      },
      "source": [
        "Then create a function that passes your predictions and labels to [compute](https://huggingface.co/docs/evaluate/main/en/package_reference/main_classes#evaluate.EvaluationModule.compute) to calculate the accuracy:"
      ]
    },
    {
      "cell_type": "code",
      "execution_count": 95,
      "metadata": {
        "id": "kPoAkv4Dkw5q"
      },
      "outputs": [],
      "source": [
        "import numpy as np\n",
        "\n",
        "\n",
        "def compute_metrics(eval_pred):\n",
        "    predictions, labels = eval_pred  # logits, labels\n",
        "    predictions = np.argmax(predictions, axis=1)  # best class per example\n",
        "    # return f1score.compute(predictions=predictions, references=labels)\n",
        "    return accuracy.compute(predictions=predictions, references=labels)"
      ]
    },
    {
      "cell_type": "markdown",
      "metadata": {
        "id": "Du07a4PWkw5q"
      },
      "source": [
        "Your `compute_metrics` function is ready to go now, and you'll return to it when you set up your training."
      ]
    },
    {
      "cell_type": "markdown",
      "metadata": {
        "id": "dvmc-rY3kw5q"
      },
      "source": [
        "## Train"
      ]
    },
    {
      "cell_type": "markdown",
      "metadata": {
        "id": "F-_zamLTkw5q"
      },
      "source": [
        "<Tip>\n",
        "\n",
        "If you aren't familiar with finetuning a model with the [Trainer](https://huggingface.co/docs/transformers/main/en/main_classes/trainer#transformers.Trainer), take a look at the basic tutorial [here](https://huggingface.co/docs/transformers/main/en/tasks/../training#train-with-pytorch-trainer)!\n",
        "\n",
        "</Tip>\n",
        "\n",
        "You're ready to start training your model now! Load ViT with [AutoModelForImageClassification](https://huggingface.co/docs/transformers/main/en/model_doc/auto#transformers.AutoModelForImageClassification). Specify the number of labels along with the number of expected labels, and the label mappings:"
      ]
    },
    {
      "cell_type": "code",
      "execution_count": 96,
      "metadata": {
        "colab": {
          "base_uri": "https://localhost:8080/"
        },
        "id": "cpRdFe_0kw5q",
        "outputId": "f9e883d7-f548-422c-9438-53f97c8327ef"
      },
      "outputs": [
        {
          "output_type": "stream",
          "name": "stderr",
          "text": [
            "Some weights of ViTForImageClassification were not initialized from the model checkpoint at google/vit-base-patch16-224-in21k and are newly initialized: ['classifier.bias', 'classifier.weight']\n",
            "You should probably TRAIN this model on a down-stream task to be able to use it for predictions and inference.\n"
          ]
        }
      ],
      "source": [
        "from transformers import AutoModelForImageClassification, TrainingArguments, Trainer\n",
        "\n",
        "model = AutoModelForImageClassification.from_pretrained(\n",
        "    checkpoint,\n",
        "    num_labels=len(labels),\n",
        "    id2label=id2label,\n",
        "    label2id=label2id,\n",
        ")"
      ]
    },
    {
      "cell_type": "markdown",
      "metadata": {
        "id": "xQ-0YwE_kw5q"
      },
      "source": [
        "At this point, only three steps remain:\n",
        "\n",
        "1. Define your training hyperparameters in [TrainingArguments](https://huggingface.co/docs/transformers/main/en/main_classes/trainer#transformers.TrainingArguments). It is important you don't remove unused columns because that'll drop the `image` column. Without the `image` column, you can't create `pixel_values`. Set `remove_unused_columns=False` to prevent this behavior! The only other required parameter is `output_dir` which specifies where to save your model. You'll push this model to the Hub by setting `push_to_hub=True` (you need to be signed in to Hugging Face to upload your model). At the end of each epoch, the [Trainer](https://huggingface.co/docs/transformers/main/en/main_classes/trainer#transformers.Trainer) will evaluate the accuracy and save the training checkpoint.\n",
        "2. Pass the training arguments to [Trainer](https://huggingface.co/docs/transformers/main/en/main_classes/trainer#transformers.Trainer) along with the model, dataset, tokenizer, data collator, and `compute_metrics` function.\n",
        "3. Call [train()](https://huggingface.co/docs/transformers/main/en/main_classes/trainer#transformers.Trainer.train) to finetune your model."
      ]
    },
    {
      "cell_type": "code",
      "execution_count": null,
      "metadata": {
        "colab": {
          "base_uri": "https://localhost:8080/",
          "height": 75
        },
        "id": "iiCMMWt8kw5q",
        "outputId": "1116004f-fe50-4d50-d92e-02714728a42a"
      },
      "outputs": [
        {
          "output_type": "display_data",
          "data": {
            "text/plain": [
              "<IPython.core.display.HTML object>"
            ],
            "text/html": [
              "\n",
              "    <div>\n",
              "      \n",
              "      <progress value='19' max='114' style='width:300px; height:20px; vertical-align: middle;'></progress>\n",
              "      [ 19/114 32:15 < 3:00:18, 0.01 it/s, Epoch 0.48/3]\n",
              "    </div>\n",
              "    <table border=\"1\" class=\"dataframe\">\n",
              "  <thead>\n",
              " <tr style=\"text-align: left;\">\n",
              "      <th>Step</th>\n",
              "      <th>Training Loss</th>\n",
              "      <th>Validation Loss</th>\n",
              "    </tr>\n",
              "  </thead>\n",
              "  <tbody>\n",
              "  </tbody>\n",
              "</table><p>"
            ]
          },
          "metadata": {}
        }
      ],
      "source": [
        "training_args = TrainingArguments(\n",
        "    output_dir=\"vit_patch16_224_food_model_acc\",\n",
        "    remove_unused_columns=False,\n",
        "    eval_strategy=\"steps\",\n",
        "    save_strategy=\"steps\",\n",
        "    learning_rate=5e-5,\n",
        "    per_device_train_batch_size=16,\n",
        "    gradient_accumulation_steps=4,\n",
        "    per_device_eval_batch_size=16,\n",
        "    num_train_epochs=3,\n",
        "    warmup_ratio=0.1,\n",
        "    logging_steps=20,\n",
        "    load_best_model_at_end=True,\n",
        "    metric_for_best_model=\"accuracy\",\n",
        "    push_to_hub=False,\n",
        ")\n",
        "\n",
        "trainer = Trainer(\n",
        "    model=model,\n",
        "    args=training_args,\n",
        "    data_collator=data_collator,\n",
        "    train_dataset=food[\"train\"],\n",
        "    eval_dataset=food[\"test\"],\n",
        "    processing_class=image_processor,\n",
        "    compute_metrics=compute_metrics,\n",
        ")\n",
        "\n",
        "trainer.train()"
      ]
    },
    {
      "cell_type": "markdown",
      "metadata": {
        "id": "6wlf65dykw5v"
      },
      "source": [
        "<Tip>\n",
        "\n",
        "For a more in-depth example of how to finetune a model for image classification, take a look at the corresponding [PyTorch notebook](https://colab.research.google.com/github/huggingface/notebooks/blob/main/examples/image_classification.ipynb).\n",
        "\n",
        "</Tip>"
      ]
    },
    {
      "cell_type": "markdown",
      "metadata": {
        "id": "Cb97EWnukw5v"
      },
      "source": [
        "## Inference"
      ]
    },
    {
      "cell_type": "markdown",
      "metadata": {
        "id": "ypeUmFD7kw5v"
      },
      "source": [
        "Great, now that you've fine-tuned a model, you can use it for inference!\n",
        "\n",
        "Load an image you'd like to run inference on:"
      ]
    },
    {
      "cell_type": "code",
      "execution_count": null,
      "metadata": {
        "id": "4rtWxvoBkw5v"
      },
      "outputs": [],
      "source": [
        "ds = load_dataset(\"food101\", split=\"validation[:10]\")\n",
        "image = ds[\"image\"][0]"
      ]
    },
    {
      "cell_type": "markdown",
      "metadata": {
        "id": "-pKw9j5xkw5v"
      },
      "source": [
        "<div class=\"flex justify-center\">\n",
        "    <img src=\"https://huggingface.co/datasets/huggingface/documentation-images/resolve/main/beignets-task-guide.png\" alt=\"image of beignets\"/>\n",
        "</div>\n",
        "\n",
        "The simplest way to try out your finetuned model for inference is to use it in a [pipeline()](https://huggingface.co/docs/transformers/main/en/main_classes/pipelines#transformers.pipeline). Instantiate a `pipeline` for image classification with your model, and pass your image to it:"
      ]
    },
    {
      "cell_type": "code",
      "execution_count": null,
      "metadata": {
        "id": "crY58Q9Tkw5v",
        "outputId": "56d8c190-dee2-4f09-d3e8-44ceb68840cf"
      },
      "outputs": [
        {
          "data": {
            "text/plain": [
              "[{'score': 0.31856709718704224, 'label': 'beignets'},\n",
              " {'score': 0.015232225880026817, 'label': 'bruschetta'},\n",
              " {'score': 0.01519392803311348, 'label': 'chicken_wings'},\n",
              " {'score': 0.013022331520915031, 'label': 'pork_chop'},\n",
              " {'score': 0.012728818692266941, 'label': 'prime_rib'}]"
            ]
          },
          "execution_count": null,
          "metadata": {},
          "output_type": "execute_result"
        }
      ],
      "source": [
        "from transformers import pipeline\n",
        "\n",
        "classifier = pipeline(\"image-classification\", model=\"my_awesome_food_model\")\n",
        "classifier(image)"
      ]
    },
    {
      "cell_type": "markdown",
      "metadata": {
        "id": "tFJ1x8ESkw5w"
      },
      "source": [
        "You can also manually replicate the results of the `pipeline` if you'd like:\n",
        "\n",
        "Load an image processor to preprocess the image and return the `input` as PyTorch tensors:"
      ]
    },
    {
      "cell_type": "code",
      "execution_count": null,
      "metadata": {
        "id": "4R69eoPlkw5w"
      },
      "outputs": [],
      "source": [
        "from transformers import AutoImageProcessor\n",
        "import torch\n",
        "\n",
        "image_processor = AutoImageProcessor.from_pretrained(\"my_awesome_food_model\")\n",
        "inputs = image_processor(image, return_tensors=\"pt\")"
      ]
    },
    {
      "cell_type": "markdown",
      "metadata": {
        "id": "Hj1obl0Ekw5w"
      },
      "source": [
        "Pass your inputs to the model and return the logits:"
      ]
    },
    {
      "cell_type": "code",
      "execution_count": null,
      "metadata": {
        "id": "Aiixx65Gkw5w"
      },
      "outputs": [],
      "source": [
        "from transformers import AutoModelForImageClassification\n",
        "\n",
        "model = AutoModelForImageClassification.from_pretrained(\"my_awesome_food_model\")\n",
        "with torch.no_grad():\n",
        "    logits = model(**inputs).logits"
      ]
    },
    {
      "cell_type": "markdown",
      "metadata": {
        "id": "l6xDuXfCkw5w"
      },
      "source": [
        "Get the predicted label with the highest probability, and use the model's `id2label` mapping to convert it to a label:"
      ]
    },
    {
      "cell_type": "code",
      "execution_count": null,
      "metadata": {
        "id": "M2OSmm0hkw5w",
        "outputId": "916ac297-3b7d-4410-b603-3881d0eb62b9"
      },
      "outputs": [
        {
          "data": {
            "text/plain": [
              "'beignets'"
            ]
          },
          "execution_count": null,
          "metadata": {},
          "output_type": "execute_result"
        }
      ],
      "source": [
        "predicted_label = logits.argmax(-1).item()\n",
        "model.config.id2label[predicted_label]"
      ]
    }
  ],
  "metadata": {
    "colab": {
      "provenance": []
    },
    "language_info": {
      "name": "python"
    },
    "kernelspec": {
      "name": "python3",
      "display_name": "Python 3"
    }
  },
  "nbformat": 4,
  "nbformat_minor": 0
}